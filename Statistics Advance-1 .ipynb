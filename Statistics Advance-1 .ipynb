{
 "cells": [
  {
   "cell_type": "markdown",
   "id": "d5f8bc06-e3a6-4f95-91e1-dbbf48d0c994",
   "metadata": {},
   "source": [
    "# Assignment Code: DA-AG-006  \n",
    "\n",
    "# Statistics Advanced – 1 "
   ]
  },
  {
   "cell_type": "markdown",
   "id": "1b7c2269-64f0-4b12-8ff9-71c81af04be2",
   "metadata": {},
   "source": [
    "#### Question 1: What is a random variable in probability theory? "
   ]
  },
  {
   "cell_type": "markdown",
   "id": "0eb2e397-e711-4cb3-a5a9-433b7997473b",
   "metadata": {},
   "source": [
    " - Answer: In probability theory, a random variable is a function that assigns a numerical value to each outcome in a sample space of a random experiment. "
   ]
  },
  {
   "cell_type": "markdown",
   "id": "b0c2c0a7-78a9-467e-82ce-356d39533490",
   "metadata": {},
   "source": [
    "#### Question 2: What are the types of random variables? "
   ]
  },
  {
   "cell_type": "markdown",
   "id": "bb8ef09f-4ea0-413d-99e2-027c48df8336",
   "metadata": {},
   "source": [
    " - Answer: In probability theory, random variables are mainly classified into two broad types, based on the kind of values they can take: \n",
    "\n",
    "1. Discrete Random Variable \n",
    "\n",
    "   - Definition: Takes on countable values (finite or infinite countable set). \n",
    "\n",
    "   - Values are often integers. \n",
    "\n",
    "2. Continuous Random Variable \n",
    "\n",
    "   - Definition: Takes values from an uncountably infinite set (any real number in an interval or range). \n",
    "\n",
    "   - Values are often measurements. \n",
    "\n",
    " "
   ]
  },
  {
   "cell_type": "markdown",
   "id": "e6c80c66-9a11-41fc-8b93-1c9931f70bc6",
   "metadata": {},
   "source": [
    "#### Question 3: Explain the difference between discrete and continuous distributions. "
   ]
  },
  {
   "cell_type": "markdown",
   "id": "dc2c8096-216b-4531-b493-856146bf9925",
   "metadata": {},
   "source": [
    "- Answer: \n",
    "\n",
    "Discrete Probability Distribution \n",
    "\n",
    "   - Values are countable (finite or countably infinite set). \n",
    "\n",
    "   - Represented by a Probability Mass Function (PMF). \n",
    "\n",
    "   - Probability of each value is given directly: P(X=x). \n",
    "\n",
    "   - The sum of all probabilities = 1. \n",
    "\n",
    "   - Graph is often shown as separate bars or points. \n",
    "\n",
    "   - Example: Rolling a die → 1,2,3,4,5,6. \n",
    "\n",
    "   - Common distributions: Binomial, Poisson, Geometric. \n",
    "\n",
    " \n",
    "\n",
    "Continuous Probability Distribution \n",
    "\n",
    "   - Values are uncountable (any real number in a range or interval). \n",
    "\n",
    "   - Represented by a Probability Density Function (PDF). \n",
    "\n",
    "   - Probability for a specific single value = 0; probability is for a range: P(a ≤ X ≤ b). \n",
    "\n",
    "   - The area under the curve over the whole range = 1. \n",
    "\n",
    "   - Graph is a smooth curve. \n",
    "\n",
    "   - Example: Heights of students in a class. \n",
    "\n",
    "   - Common distributions: Normal, Exponential, Uniform (continuous). "
   ]
  },
  {
   "cell_type": "markdown",
   "id": "74c6cbcc-be18-4f48-96c5-c8f2d3dfe1c9",
   "metadata": {},
   "source": [
    "#### Question 4: What is a binomial distribution, and how is it used in probability? "
   ]
  },
  {
   "cell_type": "markdown",
   "id": "ec2075d8-46db-4fd0-8faa-6b4e79621c10",
   "metadata": {},
   "source": [
    "- Answer: A binomial distribution is a discrete probability distribution that describes the number of successes in a fixed number of independent trials, each having the same probability of success. \n",
    "\n",
    "Example :- \n",
    "\n",
    "Toss a fair coin 5 times. \n",
    " What’s the probability of getting exactly 3 heads? \n",
    "\n",
    "Here: n=5, p=0.5, k=3\t \n",
    "\n",
    "P(X=3) \n",
    "\n",
    "=(5/3) x (0.5)3 x (0.5)2 \n",
    "\n",
    "=10×0.125×0.25 \n",
    "\n",
    "=0.3125 \n",
    "\n",
    "So, there’s a 31.25% chance of getting exactly 3 heads. \n",
    "\n",
    "Uses in Probability \n",
    "\n",
    "   - Quality control (defective vs non-defective items in a batch) \n",
    "   - Medical trials (success/failure of a treatment) \n",
    "   - Sports analysis (probability of winning a certain number of games) \n",
    "   - Customer surveys (number of “Yes” responses out of total surveyed) "
   ]
  },
  {
   "cell_type": "markdown",
   "id": "3b44a756-c0e1-46c4-b3aa-b23e97c62445",
   "metadata": {},
   "source": [
    "#### Question 5: What is the standard normal distribution, and why is it important? "
   ]
  },
  {
   "cell_type": "markdown",
   "id": "8de147ee-316b-4ba2-a74f-6d5ee82c46c1",
   "metadata": {},
   "source": [
    "- Answer: The standard normal distribution is a special case of the normal (bell-shaped) distribution where: \n",
    "   - Mean (μ) = 0 \n",
    "   - Standard deviation (σ) = 1 \n",
    "\n",
    "The variable following this distribution is called a standard normal variable and is usually denoted by Z. \n",
    "\n",
    "1.Universal reference \n",
    "   - Any normal distribution N(μ, σ) can be converted into the standard normal using: \n",
    "Z=X−μ/σ \n",
    "This is called standardization. \n",
    "\n",
    "2.  Statistical tables \n",
    "   - Probabilities for normal distributions are tabulated for Z , so converting to standard normal makes finding probabilities easier. \n",
    "\n",
    "3.Widely used in hypothesis testing \n",
    "   - Many statistical tests (Z-test, confidence intervals) rely on the standard normal. \n",
    "\n",
    "4. Foundation for other distributions \n",
    "   - It’s the basis for t-distribution, chi-square, and F-distributions in inferential statistics. \n",
    "\n",
    "5. Real-world relevance \n",
    "   - Many natural and social phenomena (heights, measurement errors, IQ scores) approximately follow a normal distribution, making the standard normal a key tool in analysis. "
   ]
  },
  {
   "cell_type": "markdown",
   "id": "12f40218-48f5-4891-9bc6-cdb9d3d5aa9a",
   "metadata": {},
   "source": [
    "#### Question 6: What is the Central Limit Theorem (CLT), and why is it critical in statistics?"
   ]
  },
  {
   "cell_type": "markdown",
   "id": "ea0da3f0-fa5c-41f1-884e-54d02b3c41c4",
   "metadata": {},
   "source": [
    "- Answer: The Central Limit Theorem states that When we take sufficiently large random samples from any population (with a finite mean and variance), the sampling distribution of the sample mean will approximate a normal distribution, regardless of the population’s original distribution. \n",
    "\n",
    "It is critical in math's because : \n",
    "\n",
    "    1. Enables use of normal probability theory : Even if data isn’t normally distributed, CLT lets us use the normal model for sample means when n is large. \n",
    "\n",
    "    2. Foundation for inferential statistics: Hypothesis testing, confidence intervals, and many estimation techniques rely on CLT. \n",
    "\n",
    "    3. Real-world problem solving: In quality control, finance, medicine, and research, we often deal with sample means, and CLT tells us how they behave. \n",
    "\n",
    "    4. Bridges theory and practice: It justifies using normal distribution-based formulas for real-world datasets that might not be normally distributed. "
   ]
  },
  {
   "cell_type": "markdown",
   "id": "9e6ecdd6-abd5-4354-b807-54fac9a5dbab",
   "metadata": {},
   "source": [
    "#### Question 7: What is the significance of confidence intervals in statistical analysis? "
   ]
  },
  {
   "cell_type": "markdown",
   "id": "2cdf36f0-e678-4788-ba98-5dc008528a6e",
   "metadata": {},
   "source": [
    "- Answer: A confidence interval is a range of values, derived from sample data, that is likely to contain the true population parameter (like the mean or proportion) with a specified level of confidence. \n",
    "\n",
    "It’s significance of confidence intervals in statistical analysis is : \n",
    "   - Estimates with uncertainty: Instead of giving just a single number (point estimate), a CI provides a range, acknowledging sampling variability. \n",
    "   - Quantifies precision: Narrow CI → more precise estimate (usually from large samples or low variability), Wide CI → less precise (small samples or high variability). \n",
    "   - Helps decision-making: In business, medicine, and research, CIs guide whether results are statistically significant or practically meaningful. \n",
    "   - Links to hypothesis testing: If a CI for a mean difference does not contain 0, or a CI for a proportion does not contain a certain benchmark, it suggests statistical significance at the chosen confidence level. "
   ]
  },
  {
   "cell_type": "markdown",
   "id": "5f8c6b4b-86b3-4345-a005-eaa756769f52",
   "metadata": {},
   "source": [
    "#### Question 8: What is the concept of expected value in a probability distribution? "
   ]
  },
  {
   "cell_type": "markdown",
   "id": "4e565b04-d6ae-4533-aa59-efc64123e605",
   "metadata": {},
   "source": [
    "- Answer: The expected value (also called mean or expectation) of a random variable is the long-run average value it would take if an experiment were repeated many times. \n",
    "\n",
    "It’s essentially the “weighted average” of all possible outcomes, where the weights are the probabilities of those outcomes. "
   ]
  },
  {
   "cell_type": "markdown",
   "id": "8e6f9285-b4b1-4fbf-a8d8-d9d94e5cd79d",
   "metadata": {},
   "source": [
    "#### Question 9: Write a Python program to generate 1000 random numbers from a normal distribution with mean = 50 and standard deviation = 5. Compute its mean and standard deviation using NumPy, and draw a histogram to visualize the distribution. "
   ]
  },
  {
   "cell_type": "code",
   "execution_count": 1,
   "id": "226d62bf-a604-4b5e-9e38-53401645a447",
   "metadata": {},
   "outputs": [
    {
     "name": "stdout",
     "output_type": "stream",
     "text": [
      "Calculated Mean: 50.06\n",
      "Calculated Standard Deviation: 4.88\n"
     ]
    },
    {
     "data": {
      "image/png": "[encoded data removed]",
      "text/plain": [
       "<Figure size 640x480 with 1 Axes>"
      ]
     },
     "metadata": {},
     "output_type": "display_data"
    }
   ],
   "source": [
    "import numpy as np\n",
    "import matplotlib.pyplot as plt\n",
    "\n",
    "# Parameters\n",
    "mean = 50\n",
    "std_dev = 5\n",
    "size = 1000\n",
    "\n",
    "# Generate 1000 random numbers from normal distribution\n",
    "data = np.random.normal(mean, std_dev, size)\n",
    "\n",
    "# Compute mean and standard deviation\n",
    "calculated_mean = np.mean(data)\n",
    "calculated_std = np.std(data)\n",
    "\n",
    "print(f\"Calculated Mean: {calculated_mean:.2f}\")\n",
    "print(f\"Calculated Standard Deviation: {calculated_std:.2f}\")\n",
    "\n",
    "# Plot histogram\n",
    "plt.hist(data, bins=30, edgecolor='black', alpha=0.7)\n",
    "plt.title('Normal Distribution (Mean=50, Std=5)')\n",
    "plt.xlabel('Value')\n",
    "plt.ylabel('Frequency')\n",
    "plt.grid(axis='y', linestyle='--', alpha=0.7)\n",
    "plt.show()\n"
   ]
  },
  {
   "cell_type": "markdown",
   "id": "2bd26245-4482-4251-81ff-130da5c62bd5",
   "metadata": {},
   "source": [
    "#### Question 10: You are working as a data analyst for a retail company. The company has collected daily sales data for 2 years and wants you to identify the overall sales trend. daily_sales = [220, 245, 210, 265, 230, 250, 260, 275, 240, 255, 235, 260, 245, 250, 225, 270, 265, 255, 250, 260] \n",
    "\n",
    "#### ● Explain how you would apply the Central Limit Theorem to estimate the average sales with a 95% confidence interval.  \n",
    "\n",
    "#### ● Write the Python code to compute the mean sales and its confidence interval. "
   ]
  },
  {
   "cell_type": "markdown",
   "id": "5fae742a-c8f6-4426-97a7-d2d840e184be",
   "metadata": {},
   "source": [
    "- Answer: The Central Limit Theorem tells us that if we take repeated random samples from any population and compute their means, the distribution of those means will be approximately normal when the sample size is large enough (or the population is already normal).\n",
    "Here: \n",
    "\n",
    "We have daily sales data (20 data points). \n",
    "\n",
    "We can treat this as a sample from a larger population (all possible daily sales). \n",
    "\n",
    "Using CLT, we assume the sampling distribution of the mean is approximately normal. \n",
    "\n",
    "We can then compute a 95% confidence interval for the true mean daily sales as: \n",
    "\n",
    "        CI=xˉ ± zα/2 ⋅ s/ √n  \n",
    "\n",
    "where: \n",
    "\n",
    "xˉ= sample mean \n",
    "\n",
    "s = sample standard deviation \n",
    "\n",
    "n = sample size \n",
    "\n",
    "zα/2  = 1.96 for 95% CI (from standard normal distribution) "
   ]
  },
  {
   "cell_type": "code",
   "execution_count": 2,
   "id": "8d035851-acbe-4efc-aac0-d9a8a0111084",
   "metadata": {},
   "outputs": [
    {
     "name": "stdout",
     "output_type": "stream",
     "text": [
      "Mean Sales: 248.25\n",
      "95% Confidence Interval: (240.17, 256.33)\n"
     ]
    }
   ],
   "source": [
    "import numpy as np\n",
    "from scipy import stats\n",
    "\n",
    "# Daily sales data\n",
    "daily_sales = [220, 245, 210, 265, 230, 250, 260, 275, 240, 255,\n",
    "               235, 260, 245, 250, 225, 270, 265, 255, 250, 260]\n",
    "\n",
    "# Convert to numpy array\n",
    "sales_array = np.array(daily_sales)\n",
    "\n",
    "# Sample statistics\n",
    "mean_sales = np.mean(sales_array)\n",
    "std_dev_sales = np.std(sales_array, ddof=1)  # sample std dev\n",
    "n = len(sales_array)\n",
    "\n",
    "# Confidence interval (95%) using t-distribution\n",
    "confidence_level = 0.95\n",
    "alpha = 1 - confidence_level\n",
    "t_critical = stats.t.ppf(1 - alpha/2, df=n-1)  # t-value for n-1 degrees of freedom\n",
    "\n",
    "margin_of_error = t_critical * (std_dev_sales / np.sqrt(n))\n",
    "ci_lower = mean_sales - margin_of_error\n",
    "ci_upper = mean_sales + margin_of_error\n",
    "\n",
    "print(f\"Mean Sales: {mean_sales:.2f}\")\n",
    "print(f\"95% Confidence Interval: ({ci_lower:.2f}, {ci_upper:.2f})\")\n"
   ]
  },
  {
   "cell_type": "code",
   "execution_count": null,
   "id": "efa36acd-3626-4a64-9e0a-7d0bc38548eb",
   "metadata": {},
   "outputs": [],
   "source": []
  }
 ],
 "metadata": {
  "kernelspec": {
   "display_name": "Python [conda env:base] *",
   "language": "python",
   "name": "conda-base-py"
  },
  "language_info": {
   "codemirror_mode": {
    "name": "ipython",
    "version": 3
   },
   "file_extension": ".py",
   "mimetype": "text/x-python",
   "name": "python",
   "nbconvert_exporter": "python",
   "pygments_lexer": "ipython3",
   "version": "3.12.7"
  }
 },
 "nbformat": 4,
 "nbformat_minor": 5
}
